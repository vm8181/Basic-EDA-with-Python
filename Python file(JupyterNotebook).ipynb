{
 "cells": [
  {
   "cell_type": "code",
   "execution_count": 1,
   "metadata": {},
   "outputs": [],
   "source": [
    "import pandas as pd\n",
    "import numpy as np"
   ]
  },
  {
   "cell_type": "code",
   "execution_count": 2,
   "metadata": {},
   "outputs": [],
   "source": [
    "df=pd.read_csv('C:/Users/PC-18/Downloads/written_requests(15).csv')"
   ]
  },
  {
   "cell_type": "code",
   "execution_count": 21,
   "metadata": {},
   "outputs": [],
   "source": [
    "df1.sort_index?"
   ]
  },
  {
   "cell_type": "code",
   "execution_count": null,
   "metadata": {},
   "outputs": [],
   "source": []
  },
  {
   "cell_type": "code",
   "execution_count": 12,
   "metadata": {
    "scrolled": true
   },
   "outputs": [
    {
     "data": {
      "text/html": [
       "<div>\n",
       "<style scoped>\n",
       "    .dataframe tbody tr th:only-of-type {\n",
       "        vertical-align: middle;\n",
       "    }\n",
       "\n",
       "    .dataframe tbody tr th {\n",
       "        vertical-align: top;\n",
       "    }\n",
       "\n",
       "    .dataframe thead th {\n",
       "        text-align: right;\n",
       "    }\n",
       "</style>\n",
       "<table border=\"1\" class=\"dataframe\">\n",
       "  <thead>\n",
       "    <tr style=\"text-align: right;\">\n",
       "      <th></th>\n",
       "      <th>wr_id</th>\n",
       "      <th>wr_sid</th>\n",
       "      <th>created_wr</th>\n",
       "      <th>status_</th>\n",
       "    </tr>\n",
       "  </thead>\n",
       "  <tbody>\n",
       "    <tr>\n",
       "      <th>0</th>\n",
       "      <td>14065</td>\n",
       "      <td>60058</td>\n",
       "      <td>2021-06-24 00:08:39</td>\n",
       "      <td>unpaid</td>\n",
       "    </tr>\n",
       "    <tr>\n",
       "      <th>1</th>\n",
       "      <td>14066</td>\n",
       "      <td>60059</td>\n",
       "      <td>2021-06-24 00:13:29</td>\n",
       "      <td>unpaid</td>\n",
       "    </tr>\n",
       "    <tr>\n",
       "      <th>2</th>\n",
       "      <td>14067</td>\n",
       "      <td>60060</td>\n",
       "      <td>2021-06-24 00:23:52</td>\n",
       "      <td>unpaid</td>\n",
       "    </tr>\n",
       "    <tr>\n",
       "      <th>3</th>\n",
       "      <td>14068</td>\n",
       "      <td>56619</td>\n",
       "      <td>2021-06-24 00:39:07</td>\n",
       "      <td>closed</td>\n",
       "    </tr>\n",
       "    <tr>\n",
       "      <th>4</th>\n",
       "      <td>14069</td>\n",
       "      <td>59464</td>\n",
       "      <td>2021-06-24 01:25:24</td>\n",
       "      <td>cancelled</td>\n",
       "    </tr>\n",
       "    <tr>\n",
       "      <th>...</th>\n",
       "      <td>...</td>\n",
       "      <td>...</td>\n",
       "      <td>...</td>\n",
       "      <td>...</td>\n",
       "    </tr>\n",
       "    <tr>\n",
       "      <th>3720</th>\n",
       "      <td>14127</td>\n",
       "      <td>57229</td>\n",
       "      <td>2021-06-25 22:09:20</td>\n",
       "      <td>unpaid</td>\n",
       "    </tr>\n",
       "    <tr>\n",
       "      <th>3721</th>\n",
       "      <td>14128</td>\n",
       "      <td>57229</td>\n",
       "      <td>2021-06-25 22:30:05</td>\n",
       "      <td>unpaid</td>\n",
       "    </tr>\n",
       "    <tr>\n",
       "      <th>3722</th>\n",
       "      <td>14101</td>\n",
       "      <td>60091</td>\n",
       "      <td>2021-06-24 23:30:36</td>\n",
       "      <td>closed</td>\n",
       "    </tr>\n",
       "    <tr>\n",
       "      <th>3723</th>\n",
       "      <td>14101</td>\n",
       "      <td>60091</td>\n",
       "      <td>2021-06-24 23:30:36</td>\n",
       "      <td>closed</td>\n",
       "    </tr>\n",
       "    <tr>\n",
       "      <th>3724</th>\n",
       "      <td>14101</td>\n",
       "      <td>60091</td>\n",
       "      <td>2021-06-24 23:30:36</td>\n",
       "      <td>closed</td>\n",
       "    </tr>\n",
       "  </tbody>\n",
       "</table>\n",
       "<p>3725 rows × 4 columns</p>\n",
       "</div>"
      ],
      "text/plain": [
       "      wr_id  wr_sid           created_wr    status_\n",
       "0     14065   60058  2021-06-24 00:08:39     unpaid\n",
       "1     14066   60059  2021-06-24 00:13:29     unpaid\n",
       "2     14067   60060  2021-06-24 00:23:52     unpaid\n",
       "3     14068   56619  2021-06-24 00:39:07     closed\n",
       "4     14069   59464  2021-06-24 01:25:24  cancelled\n",
       "...     ...     ...                  ...        ...\n",
       "3720  14127   57229  2021-06-25 22:09:20     unpaid\n",
       "3721  14128   57229  2021-06-25 22:30:05     unpaid\n",
       "3722  14101   60091  2021-06-24 23:30:36     closed\n",
       "3723  14101   60091  2021-06-24 23:30:36     closed\n",
       "3724  14101   60091  2021-06-24 23:30:36     closed\n",
       "\n",
       "[3725 rows x 4 columns]"
      ]
     },
     "execution_count": 12,
     "metadata": {},
     "output_type": "execute_result"
    }
   ],
   "source": [
    "df1\n"
   ]
  },
  {
   "cell_type": "code",
   "execution_count": 20,
   "metadata": {},
   "outputs": [
    {
     "data": {
      "text/plain": [
       "14203     6\n",
       "14202     8\n",
       "14201     8\n",
       "14198     8\n",
       "14197     8\n",
       "         ..\n",
       "13464    12\n",
       "13463    10\n",
       "13462     9\n",
       "13461     9\n",
       "13460     8\n",
       "Name: wr_id, Length: 632, dtype: int64"
      ]
     },
     "execution_count": 20,
     "metadata": {},
     "output_type": "execute_result"
    }
   ],
   "source": [
    "df1['wr_id'].value_counts().sort_index(ascending=False)"
   ]
  },
  {
   "cell_type": "code",
   "execution_count": 9,
   "metadata": {},
   "outputs": [],
   "source": [
    "df1=df[['wr_id','wr_sid','created_wr','status_']]"
   ]
  },
  {
   "cell_type": "code",
   "execution_count": 7,
   "metadata": {},
   "outputs": [
    {
     "data": {
      "text/plain": [
       "wr_id                 int64\n",
       "wr_sid                int64\n",
       "created_wr           object\n",
       "login                object\n",
       "logout               object\n",
       "Tutor_available     float64\n",
       "Tutor_subject        object\n",
       "Tutor_type           object\n",
       "status_              object\n",
       "wr_funded             int64\n",
       "wr_tid              float64\n",
       "Tutor_Name           object\n",
       "Topic_Title          object\n",
       "Topic_sub            object\n",
       "Subject_Combined     object\n",
       "wr_desc              object\n",
       "dtype: object"
      ]
     },
     "execution_count": 7,
     "metadata": {},
     "output_type": "execute_result"
    }
   ],
   "source": [
    "df.dtypes"
   ]
  },
  {
   "cell_type": "code",
   "execution_count": 63,
   "metadata": {},
   "outputs": [
    {
     "data": {
      "text/plain": [
       "0                 NaN\n",
       "1                 NaN\n",
       "2                 NaN\n",
       "3       Tanika Singla\n",
       "4                 NaN\n",
       "            ...      \n",
       "3720              NaN\n",
       "3721              NaN\n",
       "3722    Keva Lockhart\n",
       "3723    Keva Lockhart\n",
       "3724    Keva Lockhart\n",
       "Name: Tutor_Name, Length: 3725, dtype: object"
      ]
     },
     "execution_count": 63,
     "metadata": {},
     "output_type": "execute_result"
    }
   ],
   "source": [
    "df['Tutor_Name']=df['Tutor_Name'].fillna('NO_Tutor',inplace=True)"
   ]
  },
  {
   "cell_type": "code",
   "execution_count": 23,
   "metadata": {},
   "outputs": [
    {
     "name": "stderr",
     "output_type": "stream",
     "text": [
      "Matplotlib is building the font cache; this may take a moment.\n"
     ]
    }
   ],
   "source": [
    "import matplotlib.pyplot as plt"
   ]
  },
  {
   "cell_type": "code",
   "execution_count": 45,
   "metadata": {},
   "outputs": [],
   "source": [
    "corr=df.corr()"
   ]
  },
  {
   "cell_type": "code",
   "execution_count": 47,
   "metadata": {},
   "outputs": [],
   "source": [
    "df.corr?"
   ]
  },
  {
   "cell_type": "code",
   "execution_count": 46,
   "metadata": {},
   "outputs": [
    {
     "data": {
      "text/html": [
       "<div>\n",
       "<style scoped>\n",
       "    .dataframe tbody tr th:only-of-type {\n",
       "        vertical-align: middle;\n",
       "    }\n",
       "\n",
       "    .dataframe tbody tr th {\n",
       "        vertical-align: top;\n",
       "    }\n",
       "\n",
       "    .dataframe thead th {\n",
       "        text-align: right;\n",
       "    }\n",
       "</style>\n",
       "<table border=\"1\" class=\"dataframe\">\n",
       "  <thead>\n",
       "    <tr style=\"text-align: right;\">\n",
       "      <th></th>\n",
       "      <th>wr_id</th>\n",
       "      <th>wr_sid</th>\n",
       "      <th>Tutor_available</th>\n",
       "      <th>wr_funded</th>\n",
       "      <th>wr_tid</th>\n",
       "    </tr>\n",
       "  </thead>\n",
       "  <tbody>\n",
       "    <tr>\n",
       "      <th>wr_id</th>\n",
       "      <td>1.000000</td>\n",
       "      <td>0.030791</td>\n",
       "      <td>NaN</td>\n",
       "      <td>-0.012972</td>\n",
       "      <td>0.027976</td>\n",
       "    </tr>\n",
       "    <tr>\n",
       "      <th>wr_sid</th>\n",
       "      <td>0.030791</td>\n",
       "      <td>1.000000</td>\n",
       "      <td>NaN</td>\n",
       "      <td>-0.161385</td>\n",
       "      <td>0.061534</td>\n",
       "    </tr>\n",
       "    <tr>\n",
       "      <th>Tutor_available</th>\n",
       "      <td>NaN</td>\n",
       "      <td>NaN</td>\n",
       "      <td>NaN</td>\n",
       "      <td>NaN</td>\n",
       "      <td>NaN</td>\n",
       "    </tr>\n",
       "    <tr>\n",
       "      <th>wr_funded</th>\n",
       "      <td>-0.012972</td>\n",
       "      <td>-0.161385</td>\n",
       "      <td>NaN</td>\n",
       "      <td>1.000000</td>\n",
       "      <td>-0.120453</td>\n",
       "    </tr>\n",
       "    <tr>\n",
       "      <th>wr_tid</th>\n",
       "      <td>0.027976</td>\n",
       "      <td>0.061534</td>\n",
       "      <td>NaN</td>\n",
       "      <td>-0.120453</td>\n",
       "      <td>1.000000</td>\n",
       "    </tr>\n",
       "  </tbody>\n",
       "</table>\n",
       "</div>"
      ],
      "text/plain": [
       "                    wr_id    wr_sid  Tutor_available  wr_funded    wr_tid\n",
       "wr_id            1.000000  0.030791              NaN  -0.012972  0.027976\n",
       "wr_sid           0.030791  1.000000              NaN  -0.161385  0.061534\n",
       "Tutor_available       NaN       NaN              NaN        NaN       NaN\n",
       "wr_funded       -0.012972 -0.161385              NaN   1.000000 -0.120453\n",
       "wr_tid           0.027976  0.061534              NaN  -0.120453  1.000000"
      ]
     },
     "execution_count": 46,
     "metadata": {},
     "output_type": "execute_result"
    }
   ],
   "source": [
    "corr"
   ]
  },
  {
   "cell_type": "code",
   "execution_count": 44,
   "metadata": {},
   "outputs": [
    {
     "data": {
      "text/plain": [
       "<AxesSubplot:ylabel='Subject_Combined'>"
      ]
     },
     "execution_count": 44,
     "metadata": {},
     "output_type": "execute_result"
    },
    {
     "data": {
      "image/png": "[encoded data removed]",
      "text/plain": [
       "<Figure size 432x432 with 1 Axes>"
      ]
     },
     "metadata": {},
     "output_type": "display_data"
    }
   ],
   "source": [
    "df['Subject_Combined'].value_counts().plot(kind='pie',figsize=(6,6))"
   ]
  },
  {
   "cell_type": "code",
   "execution_count": 37,
   "metadata": {
    "scrolled": true,
    "slideshow": {
     "slide_type": "fragment"
    }
   },
   "outputs": [
    {
     "name": "stderr",
     "output_type": "stream",
     "text": [
      "No handles with labels found to put in legend.\n"
     ]
    },
    {
     "data": {
      "image/png": "[encoded data removed]",
      "text/plain": [
       "<Figure size 432x288 with 1 Axes>"
      ]
     },
     "metadata": {
      "needs_background": "light"
     },
     "output_type": "display_data"
    }
   ],
   "source": [
    "plt.plot(df[['wr_sid']])\n",
    "plt.xlabel('s-id')\n",
    "plt.ylabel('count')\n",
    "plt.legend()\n",
    "plt.show()"
   ]
  },
  {
   "cell_type": "code",
   "execution_count": 65,
   "metadata": {},
   "outputs": [
    {
     "data": {
      "text/html": [
       "<div>\n",
       "<style scoped>\n",
       "    .dataframe tbody tr th:only-of-type {\n",
       "        vertical-align: middle;\n",
       "    }\n",
       "\n",
       "    .dataframe tbody tr th {\n",
       "        vertical-align: top;\n",
       "    }\n",
       "\n",
       "    .dataframe thead th {\n",
       "        text-align: right;\n",
       "    }\n",
       "</style>\n",
       "<table border=\"1\" class=\"dataframe\">\n",
       "  <thead>\n",
       "    <tr style=\"text-align: right;\">\n",
       "      <th></th>\n",
       "      <th>wr_id</th>\n",
       "      <th>wr_sid</th>\n",
       "      <th>Tutor_available</th>\n",
       "      <th>wr_funded</th>\n",
       "      <th>wr_tid</th>\n",
       "    </tr>\n",
       "  </thead>\n",
       "  <tbody>\n",
       "    <tr>\n",
       "      <th>count</th>\n",
       "      <td>3725.000000</td>\n",
       "      <td>3725.000000</td>\n",
       "      <td>0.0</td>\n",
       "      <td>3725.000000</td>\n",
       "      <td>1672.000000</td>\n",
       "    </tr>\n",
       "    <tr>\n",
       "      <th>mean</th>\n",
       "      <td>13753.620403</td>\n",
       "      <td>55772.129664</td>\n",
       "      <td>NaN</td>\n",
       "      <td>12.671946</td>\n",
       "      <td>42445.137560</td>\n",
       "    </tr>\n",
       "    <tr>\n",
       "      <th>std</th>\n",
       "      <td>214.861230</td>\n",
       "      <td>6304.904709</td>\n",
       "      <td>NaN</td>\n",
       "      <td>22.385603</td>\n",
       "      <td>14401.647503</td>\n",
       "    </tr>\n",
       "    <tr>\n",
       "      <th>min</th>\n",
       "      <td>13460.000000</td>\n",
       "      <td>26093.000000</td>\n",
       "      <td>NaN</td>\n",
       "      <td>0.000000</td>\n",
       "      <td>7368.000000</td>\n",
       "    </tr>\n",
       "    <tr>\n",
       "      <th>25%</th>\n",
       "      <td>13581.000000</td>\n",
       "      <td>52791.000000</td>\n",
       "      <td>NaN</td>\n",
       "      <td>0.000000</td>\n",
       "      <td>37037.000000</td>\n",
       "    </tr>\n",
       "    <tr>\n",
       "      <th>50%</th>\n",
       "      <td>13709.000000</td>\n",
       "      <td>59252.000000</td>\n",
       "      <td>NaN</td>\n",
       "      <td>0.000000</td>\n",
       "      <td>50595.000000</td>\n",
       "    </tr>\n",
       "    <tr>\n",
       "      <th>75%</th>\n",
       "      <td>13852.000000</td>\n",
       "      <td>59595.000000</td>\n",
       "      <td>NaN</td>\n",
       "      <td>19.000000</td>\n",
       "      <td>53762.000000</td>\n",
       "    </tr>\n",
       "    <tr>\n",
       "      <th>max</th>\n",
       "      <td>14203.000000</td>\n",
       "      <td>60231.000000</td>\n",
       "      <td>NaN</td>\n",
       "      <td>160.000000</td>\n",
       "      <td>59687.000000</td>\n",
       "    </tr>\n",
       "  </tbody>\n",
       "</table>\n",
       "</div>"
      ],
      "text/plain": [
       "              wr_id        wr_sid  Tutor_available    wr_funded        wr_tid\n",
       "count   3725.000000   3725.000000              0.0  3725.000000   1672.000000\n",
       "mean   13753.620403  55772.129664              NaN    12.671946  42445.137560\n",
       "std      214.861230   6304.904709              NaN    22.385603  14401.647503\n",
       "min    13460.000000  26093.000000              NaN     0.000000   7368.000000\n",
       "25%    13581.000000  52791.000000              NaN     0.000000  37037.000000\n",
       "50%    13709.000000  59252.000000              NaN     0.000000  50595.000000\n",
       "75%    13852.000000  59595.000000              NaN    19.000000  53762.000000\n",
       "max    14203.000000  60231.000000              NaN   160.000000  59687.000000"
      ]
     },
     "execution_count": 65,
     "metadata": {},
     "output_type": "execute_result"
    }
   ],
   "source": [
    "df.describe()"
   ]
  },
  {
   "cell_type": "code",
   "execution_count": 74,
   "metadata": {},
   "outputs": [
    {
     "name": "stdout",
     "output_type": "stream",
     "text": [
      "<class 'pandas.core.frame.DataFrame'>\n",
      "RangeIndex: 3725 entries, 0 to 3724\n",
      "Data columns (total 16 columns):\n",
      " #   Column            Non-Null Count  Dtype  \n",
      "---  ------            --------------  -----  \n",
      " 0   wr_id             3725 non-null   int64  \n",
      " 1   wr_sid            3725 non-null   int64  \n",
      " 2   created_wr        3725 non-null   object \n",
      " 3   login             3671 non-null   object \n",
      " 4   logout            3671 non-null   object \n",
      " 5   Tutor_available   0 non-null      float64\n",
      " 6   Tutor_subject     914 non-null    object \n",
      " 7   Tutor_type        3671 non-null   object \n",
      " 8   status_           3725 non-null   object \n",
      " 9   wr_funded         3725 non-null   int64  \n",
      " 10  wr_tid            1672 non-null   float64\n",
      " 11  Tutor_Name        1672 non-null   object \n",
      " 12  Topic_Title       748 non-null    object \n",
      " 13  Topic_sub         748 non-null    object \n",
      " 14  Subject_Combined  3725 non-null   object \n",
      " 15  wr_desc           3725 non-null   object \n",
      "dtypes: float64(2), int64(3), object(11)\n",
      "memory usage: 465.8+ KB\n"
     ]
    }
   ],
   "source": [
    "df.info()"
   ]
  }
 ],
 "metadata": {
  "celltoolbar": "Slideshow",
  "kernelspec": {
   "display_name": "Python 3",
   "language": "python",
   "name": "python3"
  },
  "language_info": {
   "codemirror_mode": {
    "name": "ipython",
    "version": 3
   },
   "file_extension": ".py",
   "mimetype": "text/x-python",
   "name": "python",
   "nbconvert_exporter": "python",
   "pygments_lexer": "ipython3",
   "version": "3.8.5"
  }
 },
 "nbformat": 4,
 "nbformat_minor": 5
}
